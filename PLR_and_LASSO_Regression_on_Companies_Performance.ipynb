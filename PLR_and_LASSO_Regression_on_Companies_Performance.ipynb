{
  "cells": [
    {
      "cell_type": "markdown",
      "metadata": {
        "id": "view-in-github",
        "colab_type": "text"
      },
      "source": [
        "<a href=\"https://colab.research.google.com/github/darshil8008/ML-Algorithms-Implementation/blob/main/PLR_and_LASSO_Regression_on_Companies_Performance.ipynb\" target=\"_parent\"><img src=\"https://colab.research.google.com/assets/colab-badge.svg\" alt=\"Open In Colab\"/></a>"
      ]
    },
    {
      "cell_type": "code",
      "execution_count": null,
      "metadata": {
        "collapsed": true,
        "id": "hKflfR2BVZqr"
      },
      "outputs": [],
      "source": [
        "import numpy as np\n",
        "import matplotlib.pyplot as plt\n",
        "import pandas as pd\n",
        "from sklearn.linear_model import LinearRegression\n",
        "from sklearn.preprocessing import PolynomialFeatures"
      ]
    },
    {
      "cell_type": "code",
      "execution_count": null,
      "metadata": {
        "id": "oETGH_oyVZqx"
      },
      "outputs": [],
      "source": [
        "# Loading dataset\n",
        "\n",
        "df = pd.read_csv(r'C:\\Users\\hp\\Downloads\\1000_Companies.csv')"
      ]
    },
    {
      "cell_type": "code",
      "execution_count": null,
      "metadata": {
        "id": "qjDsPh5XVZqz",
        "outputId": "026c676a-e0b5-4aab-b796-0f2ce6bf1213"
      },
      "outputs": [
        {
          "data": {
            "text/html": [
              "<div>\n",
              "<style scoped>\n",
              "    .dataframe tbody tr th:only-of-type {\n",
              "        vertical-align: middle;\n",
              "    }\n",
              "\n",
              "    .dataframe tbody tr th {\n",
              "        vertical-align: top;\n",
              "    }\n",
              "\n",
              "    .dataframe thead th {\n",
              "        text-align: right;\n",
              "    }\n",
              "</style>\n",
              "<table border=\"1\" class=\"dataframe\">\n",
              "  <thead>\n",
              "    <tr style=\"text-align: right;\">\n",
              "      <th></th>\n",
              "      <th>R&amp;D Spend</th>\n",
              "      <th>Administration</th>\n",
              "      <th>Marketing Spend</th>\n",
              "      <th>State</th>\n",
              "      <th>Profit</th>\n",
              "    </tr>\n",
              "  </thead>\n",
              "  <tbody>\n",
              "    <tr>\n",
              "      <th>0</th>\n",
              "      <td>165349.20</td>\n",
              "      <td>136897.800</td>\n",
              "      <td>471784.1000</td>\n",
              "      <td>New York</td>\n",
              "      <td>192261.83000</td>\n",
              "    </tr>\n",
              "    <tr>\n",
              "      <th>1</th>\n",
              "      <td>162597.70</td>\n",
              "      <td>151377.590</td>\n",
              "      <td>443898.5300</td>\n",
              "      <td>California</td>\n",
              "      <td>191792.06000</td>\n",
              "    </tr>\n",
              "    <tr>\n",
              "      <th>2</th>\n",
              "      <td>153441.51</td>\n",
              "      <td>101145.550</td>\n",
              "      <td>407934.5400</td>\n",
              "      <td>Florida</td>\n",
              "      <td>191050.39000</td>\n",
              "    </tr>\n",
              "    <tr>\n",
              "      <th>3</th>\n",
              "      <td>144372.41</td>\n",
              "      <td>118671.850</td>\n",
              "      <td>383199.6200</td>\n",
              "      <td>New York</td>\n",
              "      <td>182901.99000</td>\n",
              "    </tr>\n",
              "    <tr>\n",
              "      <th>4</th>\n",
              "      <td>142107.34</td>\n",
              "      <td>91391.770</td>\n",
              "      <td>366168.4200</td>\n",
              "      <td>Florida</td>\n",
              "      <td>166187.94000</td>\n",
              "    </tr>\n",
              "    <tr>\n",
              "      <th>...</th>\n",
              "      <td>...</td>\n",
              "      <td>...</td>\n",
              "      <td>...</td>\n",
              "      <td>...</td>\n",
              "      <td>...</td>\n",
              "    </tr>\n",
              "    <tr>\n",
              "      <th>995</th>\n",
              "      <td>54135.00</td>\n",
              "      <td>118451.999</td>\n",
              "      <td>173232.6695</td>\n",
              "      <td>California</td>\n",
              "      <td>95279.96251</td>\n",
              "    </tr>\n",
              "    <tr>\n",
              "      <th>996</th>\n",
              "      <td>134970.00</td>\n",
              "      <td>130390.080</td>\n",
              "      <td>329204.0228</td>\n",
              "      <td>California</td>\n",
              "      <td>164336.60550</td>\n",
              "    </tr>\n",
              "    <tr>\n",
              "      <th>997</th>\n",
              "      <td>100275.47</td>\n",
              "      <td>241926.310</td>\n",
              "      <td>227142.8200</td>\n",
              "      <td>California</td>\n",
              "      <td>413956.48000</td>\n",
              "    </tr>\n",
              "    <tr>\n",
              "      <th>998</th>\n",
              "      <td>128456.23</td>\n",
              "      <td>321652.140</td>\n",
              "      <td>281692.3200</td>\n",
              "      <td>California</td>\n",
              "      <td>333962.19000</td>\n",
              "    </tr>\n",
              "    <tr>\n",
              "      <th>999</th>\n",
              "      <td>161181.72</td>\n",
              "      <td>270939.860</td>\n",
              "      <td>295442.1700</td>\n",
              "      <td>New York</td>\n",
              "      <td>476485.43000</td>\n",
              "    </tr>\n",
              "  </tbody>\n",
              "</table>\n",
              "<p>1000 rows × 5 columns</p>\n",
              "</div>"
            ],
            "text/plain": [
              "     R&D Spend  Administration  Marketing Spend       State        Profit\n",
              "0    165349.20      136897.800      471784.1000    New York  192261.83000\n",
              "1    162597.70      151377.590      443898.5300  California  191792.06000\n",
              "2    153441.51      101145.550      407934.5400     Florida  191050.39000\n",
              "3    144372.41      118671.850      383199.6200    New York  182901.99000\n",
              "4    142107.34       91391.770      366168.4200     Florida  166187.94000\n",
              "..         ...             ...              ...         ...           ...\n",
              "995   54135.00      118451.999      173232.6695  California   95279.96251\n",
              "996  134970.00      130390.080      329204.0228  California  164336.60550\n",
              "997  100275.47      241926.310      227142.8200  California  413956.48000\n",
              "998  128456.23      321652.140      281692.3200  California  333962.19000\n",
              "999  161181.72      270939.860      295442.1700    New York  476485.43000\n",
              "\n",
              "[1000 rows x 5 columns]"
            ]
          },
          "execution_count": 43,
          "metadata": {},
          "output_type": "execute_result"
        }
      ],
      "source": [
        "df"
      ]
    },
    {
      "cell_type": "code",
      "execution_count": null,
      "metadata": {
        "id": "YJayz9y1VZq2",
        "outputId": "5fd07716-936f-4441-a9e7-03b94b93c9b1"
      },
      "outputs": [
        {
          "data": {
            "text/plain": [
              "(1000, 5)"
            ]
          },
          "execution_count": 44,
          "metadata": {},
          "output_type": "execute_result"
        }
      ],
      "source": [
        "df.shape"
      ]
    },
    {
      "cell_type": "code",
      "execution_count": null,
      "metadata": {
        "id": "9bjbgraLVZq4",
        "outputId": "b363ca7a-8223-475b-a03f-3c178bd5b924"
      },
      "outputs": [
        {
          "name": "stdout",
          "output_type": "stream",
          "text": [
            "<class 'pandas.core.frame.DataFrame'>\n",
            "RangeIndex: 1000 entries, 0 to 999\n",
            "Data columns (total 5 columns):\n",
            " #   Column           Non-Null Count  Dtype  \n",
            "---  ------           --------------  -----  \n",
            " 0   R&D Spend        1000 non-null   float64\n",
            " 1   Administration   1000 non-null   float64\n",
            " 2   Marketing Spend  1000 non-null   float64\n",
            " 3   State            1000 non-null   object \n",
            " 4   Profit           1000 non-null   float64\n",
            "dtypes: float64(4), object(1)\n",
            "memory usage: 39.2+ KB\n"
          ]
        }
      ],
      "source": [
        "df.info()"
      ]
    },
    {
      "cell_type": "code",
      "execution_count": null,
      "metadata": {
        "id": "IZuOsKe8VZq5",
        "outputId": "fe44c165-987d-4864-f5ac-9bed4ab3f13b"
      },
      "outputs": [
        {
          "data": {
            "text/html": [
              "<div>\n",
              "<style scoped>\n",
              "    .dataframe tbody tr th:only-of-type {\n",
              "        vertical-align: middle;\n",
              "    }\n",
              "\n",
              "    .dataframe tbody tr th {\n",
              "        vertical-align: top;\n",
              "    }\n",
              "\n",
              "    .dataframe thead th {\n",
              "        text-align: right;\n",
              "    }\n",
              "</style>\n",
              "<table border=\"1\" class=\"dataframe\">\n",
              "  <thead>\n",
              "    <tr style=\"text-align: right;\">\n",
              "      <th></th>\n",
              "      <th>R&amp;D Spend</th>\n",
              "      <th>Administration</th>\n",
              "      <th>Marketing Spend</th>\n",
              "      <th>Profit</th>\n",
              "    </tr>\n",
              "  </thead>\n",
              "  <tbody>\n",
              "    <tr>\n",
              "      <th>count</th>\n",
              "      <td>1000.000000</td>\n",
              "      <td>1000.000000</td>\n",
              "      <td>1000.000000</td>\n",
              "      <td>1000.000000</td>\n",
              "    </tr>\n",
              "    <tr>\n",
              "      <th>mean</th>\n",
              "      <td>81668.927200</td>\n",
              "      <td>122963.897612</td>\n",
              "      <td>226205.058419</td>\n",
              "      <td>119546.164656</td>\n",
              "    </tr>\n",
              "    <tr>\n",
              "      <th>std</th>\n",
              "      <td>46537.567891</td>\n",
              "      <td>12613.927535</td>\n",
              "      <td>91578.393542</td>\n",
              "      <td>42888.633848</td>\n",
              "    </tr>\n",
              "    <tr>\n",
              "      <th>min</th>\n",
              "      <td>0.000000</td>\n",
              "      <td>51283.140000</td>\n",
              "      <td>0.000000</td>\n",
              "      <td>14681.400000</td>\n",
              "    </tr>\n",
              "    <tr>\n",
              "      <th>25%</th>\n",
              "      <td>43084.500000</td>\n",
              "      <td>116640.684850</td>\n",
              "      <td>150969.584600</td>\n",
              "      <td>85943.198543</td>\n",
              "    </tr>\n",
              "    <tr>\n",
              "      <th>50%</th>\n",
              "      <td>79936.000000</td>\n",
              "      <td>122421.612150</td>\n",
              "      <td>224517.887350</td>\n",
              "      <td>117641.466300</td>\n",
              "    </tr>\n",
              "    <tr>\n",
              "      <th>75%</th>\n",
              "      <td>124565.500000</td>\n",
              "      <td>129139.118000</td>\n",
              "      <td>308189.808525</td>\n",
              "      <td>155577.107425</td>\n",
              "    </tr>\n",
              "    <tr>\n",
              "      <th>max</th>\n",
              "      <td>165349.200000</td>\n",
              "      <td>321652.140000</td>\n",
              "      <td>471784.100000</td>\n",
              "      <td>476485.430000</td>\n",
              "    </tr>\n",
              "  </tbody>\n",
              "</table>\n",
              "</div>"
            ],
            "text/plain": [
              "           R&D Spend  Administration  Marketing Spend         Profit\n",
              "count    1000.000000     1000.000000      1000.000000    1000.000000\n",
              "mean    81668.927200   122963.897612    226205.058419  119546.164656\n",
              "std     46537.567891    12613.927535     91578.393542   42888.633848\n",
              "min         0.000000    51283.140000         0.000000   14681.400000\n",
              "25%     43084.500000   116640.684850    150969.584600   85943.198543\n",
              "50%     79936.000000   122421.612150    224517.887350  117641.466300\n",
              "75%    124565.500000   129139.118000    308189.808525  155577.107425\n",
              "max    165349.200000   321652.140000    471784.100000  476485.430000"
            ]
          },
          "execution_count": 46,
          "metadata": {},
          "output_type": "execute_result"
        }
      ],
      "source": [
        "df.describe()"
      ]
    },
    {
      "cell_type": "code",
      "execution_count": null,
      "metadata": {
        "collapsed": true,
        "id": "cLxipjA6VZq6"
      },
      "outputs": [],
      "source": [
        "X = df.iloc[:, 1:2].values\n",
        "y = df.iloc[:, 2].values"
      ]
    },
    {
      "cell_type": "code",
      "execution_count": null,
      "metadata": {
        "collapsed": true,
        "id": "1EKL2lx8VZq7"
      },
      "outputs": [],
      "source": [
        "# Splitting the dataset into the Training set and Test set\n",
        "\n",
        "from sklearn.model_selection import train_test_split \n",
        "X_train, X_test, y_train, y_test = train_test_split(X, y, test_size=0.2, random_state=0)"
      ]
    },
    {
      "cell_type": "code",
      "execution_count": null,
      "metadata": {
        "id": "HGkiPTSqVZq9",
        "outputId": "e97a6282-f0ae-4a2b-9255-af174d3906bb"
      },
      "outputs": [
        {
          "data": {
            "text/plain": [
              "LinearRegression(copy_X=True, fit_intercept=True, n_jobs=1, normalize=False)"
            ]
          },
          "execution_count": 49,
          "metadata": {},
          "output_type": "execute_result"
        }
      ],
      "source": [
        "# Fitting Polynomial Regression to the dataset\n",
        "\n",
        "from sklearn.linear_model import LinearRegression\n",
        "from sklearn.preprocessing import PolynomialFeatures\n",
        "poly_reg = PolynomialFeatures(degree=4)\n",
        "X_poly = poly_reg.fit_transform(X)\n",
        "pol_reg = LinearRegression()\n",
        "pol_reg.fit(X_poly, y)"
      ]
    },
    {
      "cell_type": "code",
      "execution_count": null,
      "metadata": {
        "id": "NeKbNnv6VZq_",
        "outputId": "2b41305b-dbc2-4258-cfe4-68d60ee7f83d"
      },
      "outputs": [
        {
          "data": {
            "image/png": "[encoded data removed]",
            "text/plain": [
              "<Figure size 432x288 with 1 Axes>"
            ]
          },
          "metadata": {},
          "output_type": "display_data"
        }
      ],
      "source": [
        "# Visualizing the Polymonial Regression results\n",
        "\n",
        "def viz_polymonial():\n",
        "    plt.scatter(X, y, color='red')\n",
        "    plt.plot(X, pol_reg.predict(poly_reg.fit_transform(X)), color='blue')\n",
        "    plt.title('Polynomial Linear Regression')\n",
        "    plt.xlabel('R&D Spend')\n",
        "    plt.ylabel('Profit')\n",
        "    plt.show()\n",
        "    return\n",
        "viz_polymonial()"
      ]
    },
    {
      "cell_type": "code",
      "execution_count": null,
      "metadata": {
        "id": "X0iH8rMBVZrB",
        "outputId": "aa579b30-0c12-4aa2-892d-e4b97e193f14"
      },
      "outputs": [
        {
          "data": {
            "text/plain": [
              "array([390966.61228266])"
            ]
          },
          "execution_count": 51,
          "metadata": {},
          "output_type": "execute_result"
        }
      ],
      "source": [
        "# Predicting a new result with Polymonial Regression\n",
        "\n",
        "pol_reg.predict(poly_reg.fit_transform([[150000]]))"
      ]
    },
    {
      "cell_type": "code",
      "execution_count": null,
      "metadata": {
        "id": "mPELlOQNVZrD",
        "outputId": "ee496613-c97c-4db0-843f-e0ee76a7373e"
      },
      "outputs": [
        {
          "data": {
            "image/png": "[encoded data removed]",
            "text/plain": [
              "<Figure size 432x288 with 1 Axes>"
            ]
          },
          "metadata": {},
          "output_type": "display_data"
        }
      ],
      "source": [
        "def viz_polymonial_smooth():\n",
        "    X_grid = np.arange(min(X), max(X), 0.1)\n",
        "    X_grid = X_grid.reshape(len(X_grid), 1) \n",
        "    \n",
        "    # Visualizing the Polymonial Regression results\n",
        "    plt.scatter(X, y, color='red')\n",
        "    plt.plot(X_grid, pol_reg.predict(poly_reg.fit_transform(X_grid)), color='blue')\n",
        "    plt.title('Truth or Bluff (Linear Regression)')\n",
        "    plt.xlabel('Position level')\n",
        "    plt.ylabel('Salary')\n",
        "    plt.show()\n",
        "    return\n",
        "viz_polymonial_smooth()"
      ]
    }
  ],
  "metadata": {
    "kernelspec": {
      "display_name": "Python 3",
      "language": "python",
      "name": "python3"
    },
    "language_info": {
      "codemirror_mode": {
        "name": "ipython",
        "version": 3
      },
      "file_extension": ".py",
      "mimetype": "text/x-python",
      "name": "python",
      "nbconvert_exporter": "python",
      "pygments_lexer": "ipython3",
      "version": "3.6.3"
    },
    "colab": {
      "name": "PLR and LASSO Regression on Companies Performance.ipynb",
      "provenance": [],
      "collapsed_sections": [],
      "include_colab_link": true
    }
  },
  "nbformat": 4,
  "nbformat_minor": 0
}